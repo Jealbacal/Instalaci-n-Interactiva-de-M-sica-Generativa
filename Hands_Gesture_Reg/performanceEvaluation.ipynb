{
 "cells": [
  {
   "cell_type": "code",
   "execution_count": 1,
   "metadata": {},
   "outputs": [],
   "source": [
    "import mediapipe as mp\n",
    "import cv2\n",
    "import pandas as pd\n",
    "import sklearn.metrics\n",
    "import seaborn as sns\n",
    "import os\n",
    "import pathlib as Path"
   ]
  },
  {
   "cell_type": "code",
   "execution_count": 2,
   "metadata": {},
   "outputs": [],
   "source": [
    "BaseOptions = mp.tasks.BaseOptions\n",
    "GestureRecognizer = mp.tasks.vision.GestureRecognizer\n",
    "GestureRecognizerOptions = mp.tasks.vision.GestureRecognizerOptions\n",
    "VisionRunningMode = mp.tasks.vision.RunningMode\n",
    "\n",
    "options = GestureRecognizerOptions(\n",
    "    base_options=BaseOptions(model_asset_path='utils/gesture_recognizer.task'),\n",
    "    running_mode=VisionRunningMode.IMAGE)"
   ]
  },
  {
   "cell_type": "code",
   "execution_count": 8,
   "metadata": {},
   "outputs": [],
   "source": [
    "image_dir = \"data/imagenes/test\"\n",
    "\n",
    "# Lista para almacenar resultados\n",
    "test_results = []\n",
    "\n",
    "\n",
    "for root, dirs, files in os.walk(image_dir):\n",
    "    for file in files:\n",
    "        # Crea la ruta completa al archivo\n",
    "        file_path = os.path.join(root, file)\n",
    "        \n",
    "        # Verifica que sea un archivo válido\n",
    "        if os.path.isfile(file_path):\n",
    "            # La etiqueta es el nombre de la carpeta que contiene la imagen\n",
    "            label = os.path.basename(root)  # Carpeta actual como la etiqueta\n",
    "            \n",
    "            # Procesa la imagen con el reconocedor de gestos\n",
    "            with mp.tasks.vision.GestureRecognizer.create_from_options(options) as recognizer:\n",
    "                try:\n",
    "                    mp_image = mp.Image.create_from_file(str(file_path))\n",
    "                    result = recognizer.recognize(mp_image)\n",
    "                    if len(result.gestures) > 0:\n",
    "                        pred = result.gestures[0][0].category_name or \"n/a\"\n",
    "                    else:\n",
    "                        pred = \"empty\"\n",
    "                    \n",
    "                    # Almacena los resultados: ruta del archivo, etiqueta y predicción\n",
    "                    test_results.append((file_path, label, pred))\n",
    "                except Exception as e:\n",
    "                    print(f\"Error processing file {file_path}: {e}\")\n",
    "\n",
    "# Crear un DataFrame de pandas con los resultados\n",
    "results_df = pd.DataFrame(test_results, columns=[\"filename\", \"label\", \"pred\"])"
   ]
  },
  {
   "cell_type": "code",
   "execution_count": 9,
   "metadata": {},
   "outputs": [
    {
     "data": {
      "text/html": [
       "<div>\n",
       "<style scoped>\n",
       "    .dataframe tbody tr th:only-of-type {\n",
       "        vertical-align: middle;\n",
       "    }\n",
       "\n",
       "    .dataframe tbody tr th {\n",
       "        vertical-align: top;\n",
       "    }\n",
       "\n",
       "    .dataframe thead th {\n",
       "        text-align: right;\n",
       "    }\n",
       "</style>\n",
       "<table border=\"1\" class=\"dataframe\">\n",
       "  <thead>\n",
       "    <tr style=\"text-align: right;\">\n",
       "      <th></th>\n",
       "      <th>filename</th>\n",
       "      <th>label</th>\n",
       "      <th>pred</th>\n",
       "    </tr>\n",
       "  </thead>\n",
       "  <tbody>\n",
       "    <tr>\n",
       "      <th>0</th>\n",
       "      <td>data/imagenes/test\\fist\\0000 (1267).jpg</td>\n",
       "      <td>fist</td>\n",
       "      <td>fist</td>\n",
       "    </tr>\n",
       "    <tr>\n",
       "      <th>1</th>\n",
       "      <td>data/imagenes/test\\fist\\0000 (1268).jpg</td>\n",
       "      <td>fist</td>\n",
       "      <td>fist</td>\n",
       "    </tr>\n",
       "    <tr>\n",
       "      <th>2</th>\n",
       "      <td>data/imagenes/test\\fist\\0000 (1269).jpg</td>\n",
       "      <td>fist</td>\n",
       "      <td>fist</td>\n",
       "    </tr>\n",
       "    <tr>\n",
       "      <th>3</th>\n",
       "      <td>data/imagenes/test\\fist\\0000 (1270).jpg</td>\n",
       "      <td>fist</td>\n",
       "      <td>fist</td>\n",
       "    </tr>\n",
       "    <tr>\n",
       "      <th>4</th>\n",
       "      <td>data/imagenes/test\\fist\\0000 (1271).jpg</td>\n",
       "      <td>fist</td>\n",
       "      <td>fist</td>\n",
       "    </tr>\n",
       "    <tr>\n",
       "      <th>...</th>\n",
       "      <td>...</td>\n",
       "      <td>...</td>\n",
       "      <td>...</td>\n",
       "    </tr>\n",
       "    <tr>\n",
       "      <th>1041</th>\n",
       "      <td>data/imagenes/test\\thumb up\\00000000 (627).jpg</td>\n",
       "      <td>thumb up</td>\n",
       "      <td>thumb up</td>\n",
       "    </tr>\n",
       "    <tr>\n",
       "      <th>1042</th>\n",
       "      <td>data/imagenes/test\\thumb up\\00000000 (628).jpg</td>\n",
       "      <td>thumb up</td>\n",
       "      <td>thumb up</td>\n",
       "    </tr>\n",
       "    <tr>\n",
       "      <th>1043</th>\n",
       "      <td>data/imagenes/test\\thumb up\\00000000 (629).jpg</td>\n",
       "      <td>thumb up</td>\n",
       "      <td>thumb up</td>\n",
       "    </tr>\n",
       "    <tr>\n",
       "      <th>1044</th>\n",
       "      <td>data/imagenes/test\\thumb up\\00000000 (630).jpg</td>\n",
       "      <td>thumb up</td>\n",
       "      <td>thumb up</td>\n",
       "    </tr>\n",
       "    <tr>\n",
       "      <th>1045</th>\n",
       "      <td>data/imagenes/test\\thumb up\\00000000 (631).jpg</td>\n",
       "      <td>thumb up</td>\n",
       "      <td>thumb up</td>\n",
       "    </tr>\n",
       "  </tbody>\n",
       "</table>\n",
       "<p>1046 rows × 3 columns</p>\n",
       "</div>"
      ],
      "text/plain": [
       "                                            filename     label      pred\n",
       "0            data/imagenes/test\\fist\\0000 (1267).jpg      fist      fist\n",
       "1            data/imagenes/test\\fist\\0000 (1268).jpg      fist      fist\n",
       "2            data/imagenes/test\\fist\\0000 (1269).jpg      fist      fist\n",
       "3            data/imagenes/test\\fist\\0000 (1270).jpg      fist      fist\n",
       "4            data/imagenes/test\\fist\\0000 (1271).jpg      fist      fist\n",
       "...                                              ...       ...       ...\n",
       "1041  data/imagenes/test\\thumb up\\00000000 (627).jpg  thumb up  thumb up\n",
       "1042  data/imagenes/test\\thumb up\\00000000 (628).jpg  thumb up  thumb up\n",
       "1043  data/imagenes/test\\thumb up\\00000000 (629).jpg  thumb up  thumb up\n",
       "1044  data/imagenes/test\\thumb up\\00000000 (630).jpg  thumb up  thumb up\n",
       "1045  data/imagenes/test\\thumb up\\00000000 (631).jpg  thumb up  thumb up\n",
       "\n",
       "[1046 rows x 3 columns]"
      ]
     },
     "execution_count": 9,
     "metadata": {},
     "output_type": "execute_result"
    }
   ],
   "source": [
    "results_df"
   ]
  },
  {
   "cell_type": "code",
   "execution_count": 12,
   "metadata": {},
   "outputs": [
    {
     "data": {
      "text/plain": [
       "<sklearn.metrics._plot.confusion_matrix.ConfusionMatrixDisplay at 0x13b87dc7cd0>"
      ]
     },
     "execution_count": 12,
     "metadata": {},
     "output_type": "execute_result"
    },
    {
     "data": {
      "image/png": "[encoded data removed]",
      "text/plain": [
       "<Figure size 640x480 with 2 Axes>"
      ]
     },
     "metadata": {},
     "output_type": "display_data"
    }
   ],
   "source": [
    "import sklearn.metrics\n",
    "\n",
    "label_names = ['fist','l','thumb up','thumb down','palm','none']\n",
    "\n",
    "classes = sorted(label_names)\n",
    "cm = sklearn.metrics.confusion_matrix(\n",
    "    results_df[\"label\"], results_df[\"pred\"], labels=classes, normalize=\"true\"\n",
    ")\n",
    "sklearn.metrics.ConfusionMatrixDisplay(cm * 100, display_labels=classes).plot(\n",
    "    include_values=False\n",
    ")\n"
   ]
  },
  {
   "cell_type": "code",
   "execution_count": 13,
   "metadata": {},
   "outputs": [
    {
     "name": "stdout",
     "output_type": "stream",
     "text": [
      "Accuracy: 0.98\n",
      "Precision: 0.99\n",
      "Recall: 0.98\n",
      "F1-Score: 0.98\n"
     ]
    }
   ],
   "source": [
    "from sklearn.metrics import accuracy_score, precision_score, recall_score, f1_score\n",
    "y_true = results_df['label']\n",
    "y_pred = results_df['pred']\n",
    "\n",
    "accuracy = accuracy_score(y_true, y_pred)\n",
    "precision = precision_score(y_true, y_pred, average='weighted', zero_division=1)\n",
    "recall = recall_score(y_true, y_pred, average='weighted', zero_division=1)\n",
    "f1 = f1_score(y_true, y_pred, average='weighted', zero_division=1)\n",
    "\n",
    "# Imprimir métricas de clasificación\n",
    "print(f\"Accuracy: {accuracy:.2f}\")\n",
    "print(f\"Precision: {precision:.2f}\")\n",
    "print(f\"Recall: {recall:.2f}\")\n",
    "print(f\"F1-Score: {f1:.2f}\")"
   ]
  }
 ],
 "metadata": {
  "kernelspec": {
   "display_name": "Python 3",
   "language": "python",
   "name": "python3"
  },
  "language_info": {
   "codemirror_mode": {
    "name": "ipython",
    "version": 3
   },
   "file_extension": ".py",
   "mimetype": "text/x-python",
   "name": "python",
   "nbconvert_exporter": "python",
   "pygments_lexer": "ipython3",
   "version": "3.10.2"
  }
 },
 "nbformat": 4,
 "nbformat_minor": 2
}
