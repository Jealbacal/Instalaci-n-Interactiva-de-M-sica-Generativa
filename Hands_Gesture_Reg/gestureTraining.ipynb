{
 "cells": [
  {
   "cell_type": "code",
   "execution_count": null,
   "metadata": {},
   "outputs": [],
   "source": [
    "import csv\n",
    "import tensorflow as tf\n",
    "from sklearn.model_selection import train_test_split\n",
    "import numpy as np\n",
    "\n",
    "RANDOM_SEED = 33"
   ]
  },
  {
   "cell_type": "code",
   "execution_count": null,
   "metadata": {},
   "outputs": [],
   "source": [
    "dataset ='landmarks.cvs'\n",
    "\n",
    "NUM_CLASSES  = 18\n"
   ]
  },
  {
   "cell_type": "code",
   "execution_count": null,
   "metadata": {},
   "outputs": [],
   "source": [
    "X_dataset = np.loadtxt(dataset,delimiter =',',dtype='float32',usecols=list(range(1,(21*2)+1)))\n",
    "Y_dataset = np.loadtxt(dataset,delimiter =',',dtype='int32',usecols=list(0))\n",
    "X_train,X_test,Y_train,Y_test = train_test_split(X_dataset,Y_dataset,train_size=0.75,random_state=RANDOM_SEED)"
   ]
  }
 ],
 "metadata": {
  "language_info": {
   "name": "python"
  }
 },
 "nbformat": 4,
 "nbformat_minor": 2
}
